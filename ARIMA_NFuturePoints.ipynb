{
  "nbformat": 4,
  "nbformat_minor": 0,
  "metadata": {
    "kernelspec": {
      "display_name": "Python 3",
      "language": "python",
      "name": "python3"
    },
    "language_info": {
      "codemirror_mode": {
        "name": "ipython",
        "version": 3
      },
      "file_extension": ".py",
      "mimetype": "text/x-python",
      "name": "python",
      "nbconvert_exporter": "python",
      "pygments_lexer": "ipython3",
      "version": "3.7.6"
    },
    "colab": {
      "name": "ARIMA-NFuturePoints.ipynb",
      "provenance": [],
      "collapsed_sections": [],
      "toc_visible": true,
      "include_colab_link": true
    }
  },
  "cells": [
    {
      "cell_type": "markdown",
      "metadata": {
        "id": "view-in-github",
        "colab_type": "text"
      },
      "source": [
        "<a href=\"https://colab.research.google.com/github/abdallahatyeh/testrepo/blob/master/ARIMA_NFuturePoints.ipynb\" target=\"_parent\"><img src=\"https://colab.research.google.com/assets/colab-badge.svg\" alt=\"Open In Colab\"/></a>"
      ]
    },
    {
      "cell_type": "markdown",
      "metadata": {
        "id": "g85Q03S7wlnR"
      },
      "source": [
        "## Price Data Prediction using ARIMA and its Extensions\n",
        "\n",
        "Just as a reminder, \"time series data\" = data that is made up of a sequence of data points taken at successive equally spaced points in time."
      ]
    },
    {
      "cell_type": "markdown",
      "metadata": {
        "id": "yRg2Jui3wlnT"
      },
      "source": [
        "#### Load and Prepare the Price Data"
      ]
    },
    {
      "cell_type": "code",
      "metadata": {
        "id": "111vgIjrwlnU"
      },
      "source": [
        "import pandas as pd\n",
        "import numpy as np\n",
        "import matplotlib.pyplot as plt\n",
        "%matplotlib inline\n",
        "import pylab \n",
        "import scipy.stats as stats"
      ],
      "execution_count": 1,
      "outputs": []
    },
    {
      "cell_type": "code",
      "metadata": {
        "id": "YLbqUq2TwlnY"
      },
      "source": [
        "data = pd.read_csv('tickets.csv')"
      ],
      "execution_count": 2,
      "outputs": []
    },
    {
      "cell_type": "code",
      "metadata": {
        "id": "6l1551z0wlnc",
        "outputId": "30a74429-087c-4069-bf44-d03847344c38",
        "colab": {
          "base_uri": "https://localhost:8080/",
          "height": 156
        }
      },
      "source": [
        "data['itinerary_dTimeUTC'] = pd.to_datetime(data['itinerary_dTimeUTC'])\n",
        "# sort by date\n",
        "data.sort_values(by='itinerary_dTimeUTC', inplace=True)\n",
        "# make the date column as index\n",
        "data.set_index('itinerary_dTimeUTC', inplace=True)\n",
        "data.info()"
      ],
      "execution_count": 3,
      "outputs": [
        {
          "output_type": "stream",
          "text": [
            "<class 'pandas.core.frame.DataFrame'>\n",
            "DatetimeIndex: 8278 entries, 2019-10-12 07:00:00 to 2020-02-11 22:00:00\n",
            "Data columns (total 1 columns):\n",
            " #   Column  Non-Null Count  Dtype\n",
            "---  ------  --------------  -----\n",
            " 0   price   8278 non-null   int64\n",
            "dtypes: int64(1)\n",
            "memory usage: 129.3 KB\n"
          ],
          "name": "stdout"
        }
      ]
    },
    {
      "cell_type": "code",
      "metadata": {
        "id": "yPVE7EbTwlnf",
        "outputId": "d52482b5-ec50-443b-a57c-0bec867934c8",
        "colab": {
          "base_uri": "https://localhost:8080/",
          "height": 225
        }
      },
      "source": [
        "data.index"
      ],
      "execution_count": 4,
      "outputs": [
        {
          "output_type": "execute_result",
          "data": {
            "text/plain": [
              "DatetimeIndex(['2019-10-12 07:00:00', '2019-10-12 07:05:00',\n",
              "               '2019-10-12 08:00:00', '2019-10-12 08:15:00',\n",
              "               '2019-10-12 08:45:00', '2019-10-12 08:50:00',\n",
              "               '2019-10-12 09:25:00', '2019-10-12 09:50:00',\n",
              "               '2019-10-12 10:00:00', '2019-10-12 10:15:00',\n",
              "               ...\n",
              "               '2020-02-11 19:30:00', '2020-02-11 19:30:00',\n",
              "               '2020-02-11 19:50:00', '2020-02-11 20:10:00',\n",
              "               '2020-02-11 20:30:00', '2020-02-11 20:55:00',\n",
              "               '2020-02-11 21:00:00', '2020-02-11 21:05:00',\n",
              "               '2020-02-11 21:20:00', '2020-02-11 22:00:00'],\n",
              "              dtype='datetime64[ns]', name='itinerary_dTimeUTC', length=8278, freq=None)"
            ]
          },
          "metadata": {
            "tags": []
          },
          "execution_count": 4
        }
      ]
    },
    {
      "cell_type": "code",
      "metadata": {
        "id": "K2OM5uzmwlni",
        "outputId": "ab600fdc-40db-423a-cd60-a4c8235982b7",
        "colab": {
          "base_uri": "https://localhost:8080/",
          "height": 233
        }
      },
      "source": [
        "data.head()"
      ],
      "execution_count": 5,
      "outputs": [
        {
          "output_type": "execute_result",
          "data": {
            "text/html": [
              "<div>\n",
              "<style scoped>\n",
              "    .dataframe tbody tr th:only-of-type {\n",
              "        vertical-align: middle;\n",
              "    }\n",
              "\n",
              "    .dataframe tbody tr th {\n",
              "        vertical-align: top;\n",
              "    }\n",
              "\n",
              "    .dataframe thead th {\n",
              "        text-align: right;\n",
              "    }\n",
              "</style>\n",
              "<table border=\"1\" class=\"dataframe\">\n",
              "  <thead>\n",
              "    <tr style=\"text-align: right;\">\n",
              "      <th></th>\n",
              "      <th>price</th>\n",
              "    </tr>\n",
              "    <tr>\n",
              "      <th>itinerary_dTimeUTC</th>\n",
              "      <th></th>\n",
              "    </tr>\n",
              "  </thead>\n",
              "  <tbody>\n",
              "    <tr>\n",
              "      <th>2019-10-12 07:00:00</th>\n",
              "      <td>61</td>\n",
              "    </tr>\n",
              "    <tr>\n",
              "      <th>2019-10-12 07:05:00</th>\n",
              "      <td>110</td>\n",
              "    </tr>\n",
              "    <tr>\n",
              "      <th>2019-10-12 08:00:00</th>\n",
              "      <td>396</td>\n",
              "    </tr>\n",
              "    <tr>\n",
              "      <th>2019-10-12 08:15:00</th>\n",
              "      <td>301</td>\n",
              "    </tr>\n",
              "    <tr>\n",
              "      <th>2019-10-12 08:45:00</th>\n",
              "      <td>116</td>\n",
              "    </tr>\n",
              "  </tbody>\n",
              "</table>\n",
              "</div>"
            ],
            "text/plain": [
              "                     price\n",
              "itinerary_dTimeUTC        \n",
              "2019-10-12 07:00:00     61\n",
              "2019-10-12 07:05:00    110\n",
              "2019-10-12 08:00:00    396\n",
              "2019-10-12 08:15:00    301\n",
              "2019-10-12 08:45:00    116"
            ]
          },
          "metadata": {
            "tags": []
          },
          "execution_count": 5
        }
      ]
    },
    {
      "cell_type": "code",
      "metadata": {
        "id": "oHuKGkA0wlno"
      },
      "source": [
        "#data['2019-10-12':'2019-10-12']"
      ],
      "execution_count": 6,
      "outputs": []
    },
    {
      "cell_type": "code",
      "metadata": {
        "id": "xmmBPwaHwlnt",
        "outputId": "bd3463f1-efb1-4468-bff8-b389e722d044",
        "colab": {
          "base_uri": "https://localhost:8080/",
          "height": 294
        }
      },
      "source": [
        "data.describe()"
      ],
      "execution_count": 7,
      "outputs": [
        {
          "output_type": "execute_result",
          "data": {
            "text/html": [
              "<div>\n",
              "<style scoped>\n",
              "    .dataframe tbody tr th:only-of-type {\n",
              "        vertical-align: middle;\n",
              "    }\n",
              "\n",
              "    .dataframe tbody tr th {\n",
              "        vertical-align: top;\n",
              "    }\n",
              "\n",
              "    .dataframe thead th {\n",
              "        text-align: right;\n",
              "    }\n",
              "</style>\n",
              "<table border=\"1\" class=\"dataframe\">\n",
              "  <thead>\n",
              "    <tr style=\"text-align: right;\">\n",
              "      <th></th>\n",
              "      <th>price</th>\n",
              "    </tr>\n",
              "  </thead>\n",
              "  <tbody>\n",
              "    <tr>\n",
              "      <th>count</th>\n",
              "      <td>8278.000000</td>\n",
              "    </tr>\n",
              "    <tr>\n",
              "      <th>mean</th>\n",
              "      <td>116.379560</td>\n",
              "    </tr>\n",
              "    <tr>\n",
              "      <th>std</th>\n",
              "      <td>89.678579</td>\n",
              "    </tr>\n",
              "    <tr>\n",
              "      <th>min</th>\n",
              "      <td>21.000000</td>\n",
              "    </tr>\n",
              "    <tr>\n",
              "      <th>25%</th>\n",
              "      <td>64.000000</td>\n",
              "    </tr>\n",
              "    <tr>\n",
              "      <th>50%</th>\n",
              "      <td>90.000000</td>\n",
              "    </tr>\n",
              "    <tr>\n",
              "      <th>75%</th>\n",
              "      <td>130.000000</td>\n",
              "    </tr>\n",
              "    <tr>\n",
              "      <th>max</th>\n",
              "      <td>1141.000000</td>\n",
              "    </tr>\n",
              "  </tbody>\n",
              "</table>\n",
              "</div>"
            ],
            "text/plain": [
              "             price\n",
              "count  8278.000000\n",
              "mean    116.379560\n",
              "std      89.678579\n",
              "min      21.000000\n",
              "25%      64.000000\n",
              "50%      90.000000\n",
              "75%     130.000000\n",
              "max    1141.000000"
            ]
          },
          "metadata": {
            "tags": []
          },
          "execution_count": 7
        }
      ]
    },
    {
      "cell_type": "markdown",
      "metadata": {
        "id": "dPhZRq1ywlnz"
      },
      "source": [
        "###ARIMA MODELS"
      ]
    },
    {
      "cell_type": "code",
      "metadata": {
        "id": "bolQhEP7wlnz",
        "outputId": "88660d70-67b8-4f32-825a-1b52c11ae3eb",
        "colab": {
          "base_uri": "https://localhost:8080/",
          "height": 5479
        }
      },
      "source": [
        "%%time\n",
        "from matplotlib import pyplot\n",
        "from statsmodels.tsa.arima_model import ARIMA\n",
        "from sklearn.metrics import mean_squared_error\n",
        "from statsmodels.tsa.statespace.sarimax import SARIMAX\n",
        "\n",
        "X = data.values\n",
        "size = 8000#int(len(X) * 0.995)\n",
        "train, test = X[:size], X[size:len(X)]\n",
        "\n",
        "history = [x for x in train]\n",
        "predictions = list()\n",
        "for t in range(len(test)):\n",
        "    #model = ARIMA(history, order=(2, 1, 0)) #AR Model \n",
        "    #model = ARIMA(history, order=(0, 1, 2)) #MA Model \n",
        "    model = ARIMA(history, order=(2, 0, 2)) #ARMA Model \n",
        "    #model = ARIMA(history, order=(2, 1, 2)) #ARIMA Model\n",
        "    #model = SARIMAX(history, order=(1, 1, 1), seasonal_order=(1, 1, 1, 4))#SARIMA\n",
        "    #For a proper SARIMAX we need an exogenous variable (i.e. another time series)\n",
        "    # We do not have it in the dataset\n",
        "    model_fit = model.fit()\n",
        "    output = model_fit.forecast()\n",
        "    yhat = output[0]\n",
        "    predictions.append(yhat)\n",
        "    obs = test[t]\n",
        "    history.append(obs)\n",
        "    print('predicted=%f, expected=%f' % (yhat, obs))\n",
        "error = mean_squared_error(test, predictions)\n",
        "print('Test RMSE: %.3f' % np.sqrt(error))\n",
        "# plot\n",
        "pyplot.plot(np.exp(test))\n",
        "pyplot.plot(np.exp(predictions), color='red')\n",
        "pyplot.show()"
      ],
      "execution_count": 8,
      "outputs": [
        {
          "output_type": "stream",
          "text": [
            "/usr/local/lib/python3.6/dist-packages/statsmodels/tools/_testing.py:19: FutureWarning: pandas.util.testing is deprecated. Use the functions in the public API at pandas.testing instead.\n",
            "  import pandas.util.testing as tm\n"
          ],
          "name": "stderr"
        },
        {
          "output_type": "stream",
          "text": [
            "predicted=73.835922, expected=60.000000\n",
            "predicted=72.900171, expected=54.000000\n",
            "predicted=71.215564, expected=35.000000\n",
            "predicted=67.002221, expected=21.000000\n",
            "predicted=61.972205, expected=49.000000\n",
            "predicted=62.988998, expected=108.000000\n",
            "predicted=72.566714, expected=95.000000\n",
            "predicted=75.532741, expected=81.000000\n",
            "predicted=76.204553, expected=85.000000\n",
            "predicted=76.411559, expected=90.000000\n",
            "predicted=78.490509, expected=56.000000\n",
            "predicted=74.135559, expected=90.000000\n",
            "predicted=76.998501, expected=59.000000\n",
            "predicted=73.860487, expected=59.000000\n",
            "predicted=71.367244, expected=83.000000\n",
            "predicted=74.618951, expected=144.000000\n",
            "predicted=85.851416, expected=51.000000\n",
            "predicted=78.094470, expected=128.000000\n",
            "predicted=85.876091, expected=54.000000\n",
            "predicted=79.049233, expected=167.000000\n",
            "predicted=93.038185, expected=70.000000\n",
            "predicted=86.399389, expected=88.000000\n",
            "predicted=85.630281, expected=64.000000\n",
            "predicted=81.529815, expected=50.000000\n",
            "predicted=76.913386, expected=106.000000\n",
            "predicted=82.899710, expected=50.000000\n",
            "predicted=77.583290, expected=109.000000\n"
          ],
          "name": "stdout"
        },
        {
          "output_type": "stream",
          "text": [
            "/usr/local/lib/python3.6/dist-packages/statsmodels/base/model.py:512: ConvergenceWarning: Maximum Likelihood optimization failed to converge. Check mle_retvals\n",
            "  \"Check mle_retvals\", ConvergenceWarning)\n"
          ],
          "name": "stderr"
        },
        {
          "output_type": "stream",
          "text": [
            "predicted=83.684457, expected=156.000000\n",
            "predicted=94.813898, expected=73.000000\n",
            "predicted=88.674103, expected=35.000000\n",
            "predicted=79.277849, expected=44.000000\n",
            "predicted=75.035314, expected=75.000000\n",
            "predicted=77.133841, expected=81.000000\n",
            "predicted=78.497169, expected=56.000000\n",
            "predicted=76.225603, expected=73.000000\n",
            "predicted=77.039677, expected=364.000000\n",
            "predicted=123.528919, expected=219.000000\n",
            "predicted=129.446262, expected=81.000000\n",
            "predicted=112.506321, expected=45.000000\n",
            "predicted=97.104253, expected=65.000000\n",
            "predicted=92.405264, expected=71.000000\n",
            "predicted=90.123184, expected=44.000000\n",
            "predicted=84.270308, expected=66.000000\n",
            "predicted=83.951656, expected=89.000000\n",
            "predicted=87.050696, expected=126.000000\n",
            "predicted=94.536263, expected=59.000000\n",
            "predicted=88.335950, expected=35.000000\n",
            "predicted=80.798631, expected=91.000000\n",
            "predicted=84.943487, expected=81.000000\n",
            "predicted=84.942032, expected=54.000000\n",
            "predicted=81.485586, expected=80.000000\n",
            "predicted=82.995207, expected=86.000000\n",
            "predicted=84.652516, expected=81.000000\n",
            "predicted=84.739120, expected=127.000000\n",
            "predicted=92.047510, expected=66.000000\n",
            "predicted=86.203571, expected=239.000000\n",
            "predicted=111.290251, expected=294.000000\n",
            "predicted=135.301143, expected=44.000000\n",
            "predicted=110.984691, expected=69.000000\n",
            "predicted=101.517797, expected=45.000000\n",
            "predicted=92.297324, expected=41.000000\n",
            "predicted=86.042733, expected=35.000000\n",
            "predicted=80.960961, expected=54.000000\n",
            "predicted=80.418934, expected=81.000000\n",
            "predicted=83.839962, expected=37.000000\n",
            "predicted=78.443524, expected=21.000000\n",
            "predicted=72.278678, expected=60.000000\n",
            "predicted=74.277424, expected=81.000000\n",
            "predicted=78.294786, expected=44.000000\n",
            "predicted=74.449052, expected=149.000000\n",
            "predicted=88.629697, expected=66.000000\n",
            "predicted=83.805502, expected=272.000000\n",
            "predicted=113.934138, expected=66.000000\n",
            "predicted=99.654268, expected=99.000000\n",
            "predicted=97.177330, expected=95.000000\n",
            "predicted=95.416016, expected=128.000000\n",
            "predicted=99.838194, expected=68.000000\n",
            "predicted=93.161710, expected=70.000000\n",
            "predicted=89.635254, expected=85.000000\n",
            "predicted=89.857541, expected=140.000000\n",
            "predicted=98.639227, expected=165.000000\n",
            "predicted=107.954345, expected=81.000000\n",
            "predicted=100.531425, expected=54.000000\n",
            "predicted=91.568488, expected=71.000000\n",
            "predicted=89.892917, expected=86.000000\n",
            "predicted=90.739417, expected=96.000000\n",
            "predicted=92.667598, expected=96.000000\n",
            "predicted=93.715397, expected=94.000000\n",
            "predicted=93.991205, expected=118.000000\n",
            "predicted=97.980837, expected=251.000000\n",
            "predicted=121.652026, expected=368.000000\n"
          ],
          "name": "stdout"
        },
        {
          "output_type": "stream",
          "text": [
            "/usr/local/lib/python3.6/dist-packages/statsmodels/base/model.py:512: ConvergenceWarning: Maximum Likelihood optimization failed to converge. Check mle_retvals\n",
            "  \"Check mle_retvals\", ConvergenceWarning)\n"
          ],
          "name": "stderr"
        },
        {
          "output_type": "stream",
          "text": [
            "predicted=155.274439, expected=187.000000\n",
            "predicted=147.778880, expected=130.000000\n",
            "predicted=135.945661, expected=130.000000\n",
            "predicted=130.101175, expected=135.000000\n",
            "predicted=128.080031, expected=105.000000\n",
            "predicted=122.459144, expected=105.000000\n",
            "predicted=119.315169, expected=106.000000\n",
            "predicted=117.597209, expected=67.000000\n",
            "predicted=109.637217, expected=80.000000\n",
            "predicted=107.656177, expected=111.000000\n",
            "predicted=110.728113, expected=77.000000\n",
            "predicted=106.770372, expected=73.000000\n",
            "predicted=103.468378, expected=106.000000\n",
            "predicted=106.439314, expected=54.000000\n",
            "predicted=99.518251, expected=120.000000\n",
            "predicted=105.665800, expected=128.000000\n",
            "predicted=110.296995, expected=120.000000\n",
            "predicted=111.701604, expected=98.000000\n",
            "predicted=109.065737, expected=104.000000\n",
            "predicted=108.497715, expected=81.000000\n",
            "predicted=104.432437, expected=137.000000\n",
            "predicted=110.892100, expected=96.000000\n",
            "predicted=107.524466, expected=96.000000\n",
            "predicted=106.463015, expected=71.000000\n",
            "predicted=101.417806, expected=99.000000\n",
            "predicted=102.162537, expected=130.000000\n",
            "predicted=108.276820, expected=115.000000\n",
            "predicted=109.094353, expected=81.000000\n",
            "predicted=104.203685, expected=112.000000\n",
            "predicted=105.688517, expected=117.000000\n",
            "predicted=107.634139, expected=128.000000\n",
            "predicted=111.156998, expected=159.000000\n",
            "predicted=117.990474, expected=127.000000\n",
            "predicted=117.187145, expected=130.000000\n",
            "predicted=117.535655, expected=99.000000\n"
          ],
          "name": "stdout"
        },
        {
          "output_type": "stream",
          "text": [
            "/usr/local/lib/python3.6/dist-packages/statsmodels/base/model.py:512: ConvergenceWarning: Maximum Likelihood optimization failed to converge. Check mle_retvals\n",
            "  \"Check mle_retvals\", ConvergenceWarning)\n"
          ],
          "name": "stderr"
        },
        {
          "output_type": "stream",
          "text": [
            "predicted=113.043817, expected=96.000000\n",
            "predicted=110.053114, expected=61.000000\n",
            "predicted=102.653097, expected=98.000000\n",
            "predicted=104.008111, expected=91.000000\n",
            "predicted=102.826016, expected=130.000000\n",
            "predicted=109.082698, expected=106.000000\n",
            "predicted=108.506109, expected=99.000000\n"
          ],
          "name": "stdout"
        },
        {
          "output_type": "stream",
          "text": [
            "/usr/local/lib/python3.6/dist-packages/statsmodels/base/model.py:512: ConvergenceWarning: Maximum Likelihood optimization failed to converge. Check mle_retvals\n",
            "  \"Check mle_retvals\", ConvergenceWarning)\n"
          ],
          "name": "stderr"
        },
        {
          "output_type": "stream",
          "text": [
            "predicted=107.059567, expected=96.000000\n"
          ],
          "name": "stdout"
        },
        {
          "output_type": "stream",
          "text": [
            "/usr/local/lib/python3.6/dist-packages/statsmodels/base/model.py:512: ConvergenceWarning: Maximum Likelihood optimization failed to converge. Check mle_retvals\n",
            "  \"Check mle_retvals\", ConvergenceWarning)\n"
          ],
          "name": "stderr"
        },
        {
          "output_type": "stream",
          "text": [
            "predicted=105.691250, expected=132.000000\n",
            "predicted=110.020275, expected=99.000000\n",
            "predicted=108.203000, expected=86.000000\n",
            "predicted=104.739340, expected=64.000000\n",
            "predicted=99.101608, expected=62.000000\n",
            "predicted=95.199136, expected=75.000000\n",
            "predicted=94.595664, expected=85.000000\n",
            "predicted=95.456220, expected=84.000000\n",
            "predicted=95.473904, expected=21.000000\n",
            "predicted=85.095807, expected=58.000000\n",
            "predicted=84.460112, expected=84.000000\n",
            "predicted=87.136575, expected=81.000000\n",
            "predicted=88.743847, expected=85.000000\n",
            "predicted=89.728639, expected=130.000000\n",
            "predicted=97.354415, expected=96.000000\n",
            "predicted=96.415473, expected=130.000000\n",
            "predicted=101.449758, expected=58.000000\n",
            "predicted=93.038202, expected=108.000000\n",
            "predicted=96.174601, expected=59.000000\n",
            "predicted=90.138976, expected=55.000000\n",
            "predicted=85.834623, expected=56.000000\n",
            "predicted=83.179289, expected=54.000000\n",
            "predicted=80.354053, expected=113.000000\n",
            "predicted=88.718309, expected=84.000000\n",
            "predicted=88.445930, expected=59.000000\n",
            "predicted=84.219361, expected=45.000000\n",
            "predicted=79.334430, expected=37.000000\n",
            "predicted=74.874916, expected=74.000000\n",
            "predicted=77.179128, expected=54.000000\n",
            "predicted=75.908706, expected=72.000000\n",
            "predicted=77.402322, expected=60.000000\n",
            "predicted=76.096510, expected=66.000000\n",
            "predicted=76.083799, expected=81.000000\n",
            "predicted=78.283558, expected=71.000000\n",
            "predicted=77.846367, expected=50.000000\n",
            "predicted=74.139119, expected=44.000000\n",
            "predicted=70.823060, expected=67.000000\n",
            "predicted=72.305451, expected=66.000000\n",
            "predicted=72.778116, expected=47.000000\n",
            "predicted=69.831205, expected=81.000000\n",
            "predicted=73.370079, expected=64.000000\n",
            "predicted=72.572663, expected=54.000000\n",
            "predicted=70.419815, expected=73.000000\n",
            "predicted=72.081611, expected=108.000000\n",
            "predicted=78.591709, expected=61.000000\n",
            "predicted=74.959774, expected=81.000000\n",
            "predicted=76.114518, expected=54.000000\n",
            "predicted=71.909835, expected=90.000000\n",
            "predicted=76.153073, expected=60.000000\n",
            "predicted=73.481431, expected=81.000000\n",
            "predicted=75.296180, expected=64.000000\n",
            "predicted=73.617005, expected=59.000000\n",
            "predicted=71.817635, expected=60.000000\n",
            "predicted=70.841893, expected=74.000000\n",
            "predicted=72.397743, expected=50.000000\n",
            "predicted=69.390973, expected=90.000000\n",
            "predicted=73.333724, expected=45.000000\n",
            "predicted=69.353758, expected=81.000000\n",
            "predicted=72.382048, expected=45.000000\n",
            "predicted=68.315608, expected=35.000000\n",
            "predicted=64.215944, expected=64.000000\n",
            "predicted=66.230255, expected=59.000000\n",
            "predicted=66.405248, expected=90.000000\n",
            "predicted=71.345467, expected=84.000000\n",
            "predicted=73.285850, expected=85.000000\n",
            "predicted=74.707162, expected=90.000000\n",
            "predicted=76.508758, expected=96.000000\n",
            "predicted=78.740646, expected=67.000000\n",
            "predicted=75.623095, expected=54.000000\n",
            "predicted=71.868055, expected=59.000000\n",
            "predicted=70.464193, expected=44.000000\n",
            "predicted=67.145969, expected=58.000000\n",
            "predicted=67.272003, expected=44.000000\n",
            "predicted=64.906089, expected=21.000000\n",
            "predicted=59.594604, expected=58.000000\n",
            "predicted=62.088985, expected=84.000000\n",
            "predicted=67.431165, expected=81.000000\n"
          ],
          "name": "stdout"
        },
        {
          "output_type": "stream",
          "text": [
            "/usr/local/lib/python3.6/dist-packages/statsmodels/base/model.py:512: ConvergenceWarning: Maximum Likelihood optimization failed to converge. Check mle_retvals\n",
            "  \"Check mle_retvals\", ConvergenceWarning)\n"
          ],
          "name": "stderr"
        },
        {
          "output_type": "stream",
          "text": [
            "predicted=69.999952, expected=85.000000\n",
            "predicted=72.211401, expected=89.000000\n",
            "predicted=74.300923, expected=92.000000\n",
            "predicted=76.210955, expected=130.000000\n",
            "predicted=83.705618, expected=104.000000\n",
            "predicted=84.338356, expected=81.000000\n",
            "predicted=81.480655, expected=130.000000\n",
            "predicted=88.029940, expected=95.000000\n",
            "predicted=86.646617, expected=130.000000\n",
            "predicted=91.873006, expected=60.000000\n"
          ],
          "name": "stdout"
        },
        {
          "output_type": "stream",
          "text": [
            "/usr/local/lib/python3.6/dist-packages/statsmodels/base/model.py:512: ConvergenceWarning: Maximum Likelihood optimization failed to converge. Check mle_retvals\n",
            "  \"Check mle_retvals\", ConvergenceWarning)\n"
          ],
          "name": "stderr"
        },
        {
          "output_type": "stream",
          "text": [
            "predicted=84.109218, expected=60.000000\n",
            "predicted=79.803811, expected=44.000000\n",
            "predicted=74.705771, expected=73.000000\n",
            "predicted=76.189519, expected=103.000000\n",
            "predicted=81.103402, expected=81.000000\n",
            "predicted=81.407753, expected=101.000000\n",
            "predicted=84.516020, expected=35.000000\n",
            "predicted=75.839012, expected=117.000000\n",
            "predicted=83.885292, expected=116.000000\n",
            "predicted=88.477636, expected=71.000000\n",
            "predicted=84.178152, expected=44.000000\n",
            "predicted=77.466065, expected=272.000000\n",
            "predicted=110.126697, expected=81.000000\n",
            "predicted=99.236076, expected=62.000000\n",
            "predicted=90.503267, expected=109.000000\n",
            "predicted=93.171260, expected=60.000000\n",
            "predicted=87.010255, expected=50.000000\n",
            "predicted=81.787230, expected=81.000000\n",
            "predicted=83.499537, expected=71.000000\n",
            "predicted=82.690849, expected=44.000000\n",
            "predicted=77.708019, expected=58.000000\n",
            "predicted=76.748490, expected=71.000000\n",
            "predicted=77.957606, expected=35.000000\n",
            "predicted=72.615270, expected=60.000000\n",
            "predicted=73.171239, expected=81.000000\n",
            "predicted=76.532060, expected=58.000000\n",
            "predicted=74.613565, expected=44.000000\n",
            "predicted=71.074595, expected=71.000000\n",
            "predicted=73.078804, expected=90.000000\n",
            "predicted=77.101028, expected=61.000000\n",
            "predicted=74.754088, expected=81.000000\n",
            "predicted=76.539573, expected=221.000000\n",
            "predicted=100.071818, expected=90.000000\n",
            "predicted=93.433502, expected=60.000000\n",
            "predicted=85.358436, expected=85.000000\n",
            "predicted=84.883565, expected=81.000000\n"
          ],
          "name": "stdout"
        },
        {
          "output_type": "stream",
          "text": [
            "/usr/local/lib/python3.6/dist-packages/statsmodels/base/model.py:512: ConvergenceWarning: Maximum Likelihood optimization failed to converge. Check mle_retvals\n",
            "  \"Check mle_retvals\", ConvergenceWarning)\n"
          ],
          "name": "stderr"
        },
        {
          "output_type": "stream",
          "text": [
            "predicted=84.053745, expected=100.000000\n",
            "predicted=86.674175, expected=58.000000\n",
            "predicted=81.563989, expected=60.000000\n",
            "predicted=78.865885, expected=84.000000\n",
            "predicted=80.993955, expected=90.000000\n",
            "predicted=83.105557, expected=69.000000\n",
            "predicted=80.962665, expected=81.000000\n",
            "predicted=81.005816, expected=35.000000\n",
            "predicted=74.549994, expected=21.000000\n",
            "predicted=67.944180, expected=58.000000\n",
            "predicted=69.579837, expected=60.000000\n",
            "predicted=70.456041, expected=90.000000\n",
            "predicted=75.498279, expected=222.000000\n",
            "predicted=99.577634, expected=74.000000\n",
            "predicted=90.479850, expected=90.000000\n",
            "predicted=88.295636, expected=81.000000\n",
            "predicted=85.874044, expected=67.000000\n",
            "predicted=82.368661, expected=44.000000\n",
            "predicted=76.648842, expected=60.000000\n",
            "predicted=75.689248, expected=58.000000\n",
            "predicted=74.559768, expected=44.000000\n",
            "Test RMSE: 45.187\n"
          ],
          "name": "stdout"
        },
        {
          "output_type": "display_data",
          "data": {
            "image/png": "[encoded data removed]",
            "text/plain": [
              "<Figure size 432x288 with 1 Axes>"
            ]
          },
          "metadata": {
            "tags": [],
            "needs_background": "light"
          }
        },
        {
          "output_type": "stream",
          "text": [
            "CPU times: user 24min 47s, sys: 3min 31s, total: 28min 18s\n",
            "Wall time: 23min 8s\n"
          ],
          "name": "stdout"
        }
      ]
    },
    {
      "cell_type": "markdown",
      "metadata": {
        "id": "_A2vEntq75kI"
      },
      "source": [
        "### Predict Many points in the future\n",
        "\n",
        "Notice how we feed the number of points when we make predictions"
      ]
    },
    {
      "cell_type": "code",
      "metadata": {
        "id": "EeRwQ1MOwln3",
        "outputId": "98764e50-0700-4feb-c0e1-6ca397648c1f",
        "colab": {
          "base_uri": "https://localhost:8080/",
          "height": 225
        }
      },
      "source": [
        "%%time\n",
        "X = data.values.flatten()\n",
        "#model = ARIMA(X, order=(2, 1, 0)) #AR Model \n",
        "#model = ARIMA(X, order=(0, 1, 2)) #MA Model \n",
        "model = ARIMA(X, order=(2, 0, 2)) #ARMA Model \n",
        "#model = ARIMA(X, order=(2, 1, 2)) #ARIMA Model\n",
        "#model = SARIMAX(X, order=(1, 1, 1), seasonal_order=(1, 1, 1, 4))#SARIMA\n",
        "\n",
        "model_fit = model.fit()\n",
        "# multiple step predictions .. we start at the end of the training data\n",
        "# and we extend into the future by how many points we want\n",
        "# if you want n future points you should add n-1 \n",
        "# i.e. if you want 20 points in the future you should do:\n",
        "# model_fit.predict(start=len(X), end=(len(X)+19))\n",
        "y_hat = model_fit.predict(start=len(X), end=(len(X)+9))#predict 10 future points\n",
        "for e in y_hat:\n",
        "  print(e)"
      ],
      "execution_count": 9,
      "outputs": [
        {
          "output_type": "stream",
          "text": [
            "71.39883061141143\n",
            "73.64568666796572\n",
            "75.08403261051086\n",
            "76.02217798529918\n",
            "76.65081040081654\n",
            "77.08786916027978\n",
            "77.40629927353703\n",
            "77.65121710945095\n",
            "77.85052722574076\n",
            "78.02148880021372\n",
            "CPU times: user 6.02 s, sys: 805 ms, total: 6.82 s\n",
            "Wall time: 5.69 s\n"
          ],
          "name": "stdout"
        }
      ]
    },
    {
      "cell_type": "code",
      "metadata": {
        "id": "jfd9P27P4r4o"
      },
      "source": [
        ""
      ],
      "execution_count": null,
      "outputs": []
    }
  ]
}